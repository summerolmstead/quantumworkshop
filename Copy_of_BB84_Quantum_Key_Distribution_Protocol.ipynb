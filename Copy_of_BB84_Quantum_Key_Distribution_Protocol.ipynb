{
  "nbformat": 4,
  "nbformat_minor": 0,
  "metadata": {
    "colab": {
      "provenance": [],
      "include_colab_link": true
    },
    "kernelspec": {
      "name": "python3",
      "display_name": "Python 3"
    },
    "language_info": {
      "name": "python"
    }
  },
  "cells": [
    {
      "cell_type": "markdown",
      "metadata": {
        "id": "view-in-github",
        "colab_type": "text"
      },
      "source": [
        "<a href=\"https://colab.research.google.com/github/summerolmstead/quantumworkshop/blob/main/Copy_of_BB84_Quantum_Key_Distribution_Protocol.ipynb\" target=\"_parent\"><img src=\"https://colab.research.google.com/assets/colab-badge.svg\" alt=\"Open In Colab\"/></a>"
      ]
    },
    {
      "cell_type": "markdown",
      "source": [
        "# BB84: The First Quantum Key Distribution Protocol\n",
        "Learning Outcomes:\n",
        "\n",
        "* Students will apply the principle of superposition and no-cloning theorem to construct a quantum key distribution protocol.\n",
        "* Students will apply quantum operations and measurement principles to quantum key distribution.\n",
        "* Students will understand the importance of using non-orthogonal states in QKD.\n",
        "* Students will analyze the QKD protocol for detecting eavesdropping."
      ],
      "metadata": {
        "id": "p0Za9uNo5FqB"
      }
    },
    {
      "cell_type": "code",
      "execution_count": null,
      "metadata": {
        "colab": {
          "base_uri": "https://localhost:8080/",
          "height": 443
        },
        "id": "DZk7Wyjv5FT-",
        "outputId": "aad32125-0de1-4dd4-c581-6a4822999840"
      },
      "outputs": [
        {
          "output_type": "error",
          "ename": "Exception",
          "evalue": "File `'pyfiles/bb84.py'` not found.",
          "traceback": [
            "\u001b[0;31m---------------------------------------------------------------------------\u001b[0m",
            "\u001b[0;31mOSError\u001b[0m                                   Traceback (most recent call last)",
            "\u001b[0;32m/usr/local/lib/python3.10/dist-packages/IPython/core/magics/execution.py\u001b[0m in \u001b[0;36mrun\u001b[0;34m(self, parameter_s, runner, file_finder)\u001b[0m\n\u001b[1;32m    713\u001b[0m             \u001b[0mfpath\u001b[0m \u001b[0;34m=\u001b[0m \u001b[0marg_lst\u001b[0m\u001b[0;34m[\u001b[0m\u001b[0;36m0\u001b[0m\u001b[0;34m]\u001b[0m\u001b[0;34m\u001b[0m\u001b[0;34m\u001b[0m\u001b[0m\n\u001b[0;32m--> 714\u001b[0;31m             \u001b[0mfilename\u001b[0m \u001b[0;34m=\u001b[0m \u001b[0mfile_finder\u001b[0m\u001b[0;34m(\u001b[0m\u001b[0mfpath\u001b[0m\u001b[0;34m)\u001b[0m\u001b[0;34m\u001b[0m\u001b[0;34m\u001b[0m\u001b[0m\n\u001b[0m\u001b[1;32m    715\u001b[0m         \u001b[0;32mexcept\u001b[0m \u001b[0mIndexError\u001b[0m\u001b[0;34m:\u001b[0m\u001b[0;34m\u001b[0m\u001b[0;34m\u001b[0m\u001b[0m\n",
            "\u001b[0;32m/usr/local/lib/python3.10/dist-packages/IPython/utils/path.py\u001b[0m in \u001b[0;36mget_py_filename\u001b[0;34m(name, force_win32)\u001b[0m\n\u001b[1;32m    108\u001b[0m     \u001b[0;32melse\u001b[0m\u001b[0;34m:\u001b[0m\u001b[0;34m\u001b[0m\u001b[0;34m\u001b[0m\u001b[0m\n\u001b[0;32m--> 109\u001b[0;31m         \u001b[0;32mraise\u001b[0m \u001b[0mIOError\u001b[0m\u001b[0;34m(\u001b[0m\u001b[0;34m'File `%r` not found.'\u001b[0m \u001b[0;34m%\u001b[0m \u001b[0mname\u001b[0m\u001b[0;34m)\u001b[0m\u001b[0;34m\u001b[0m\u001b[0;34m\u001b[0m\u001b[0m\n\u001b[0m\u001b[1;32m    110\u001b[0m \u001b[0;34m\u001b[0m\u001b[0m\n",
            "\u001b[0;31mOSError\u001b[0m: File `'pyfiles/bb84.py'` not found.",
            "\nDuring handling of the above exception, another exception occurred:\n",
            "\u001b[0;31mException\u001b[0m                                 Traceback (most recent call last)",
            "\u001b[0;32m<ipython-input-1-f63fe937416f>\u001b[0m in \u001b[0;36m<cell line: 1>\u001b[0;34m()\u001b[0m\n\u001b[0;32m----> 1\u001b[0;31m \u001b[0mget_ipython\u001b[0m\u001b[0;34m(\u001b[0m\u001b[0;34m)\u001b[0m\u001b[0;34m.\u001b[0m\u001b[0mrun_line_magic\u001b[0m\u001b[0;34m(\u001b[0m\u001b[0;34m'run'\u001b[0m\u001b[0;34m,\u001b[0m \u001b[0;34m'pyfiles/bb84  #This runs the file that has the code'\u001b[0m\u001b[0;34m)\u001b[0m\u001b[0;34m\u001b[0m\u001b[0;34m\u001b[0m\u001b[0m\n\u001b[0m\u001b[1;32m      2\u001b[0m \u001b[0mcreateTable\u001b[0m\u001b[0;34m(\u001b[0m\u001b[0;34m)\u001b[0m\u001b[0;34m\u001b[0m\u001b[0;34m\u001b[0m\u001b[0m\n",
            "\u001b[0;32m/usr/local/lib/python3.10/dist-packages/IPython/core/interactiveshell.py\u001b[0m in \u001b[0;36mrun_line_magic\u001b[0;34m(self, magic_name, line, _stack_depth)\u001b[0m\n\u001b[1;32m   2416\u001b[0m                 \u001b[0mkwargs\u001b[0m\u001b[0;34m[\u001b[0m\u001b[0;34m'local_ns'\u001b[0m\u001b[0;34m]\u001b[0m \u001b[0;34m=\u001b[0m \u001b[0mself\u001b[0m\u001b[0;34m.\u001b[0m\u001b[0mget_local_scope\u001b[0m\u001b[0;34m(\u001b[0m\u001b[0mstack_depth\u001b[0m\u001b[0;34m)\u001b[0m\u001b[0;34m\u001b[0m\u001b[0;34m\u001b[0m\u001b[0m\n\u001b[1;32m   2417\u001b[0m             \u001b[0;32mwith\u001b[0m \u001b[0mself\u001b[0m\u001b[0;34m.\u001b[0m\u001b[0mbuiltin_trap\u001b[0m\u001b[0;34m:\u001b[0m\u001b[0;34m\u001b[0m\u001b[0;34m\u001b[0m\u001b[0m\n\u001b[0;32m-> 2418\u001b[0;31m                 \u001b[0mresult\u001b[0m \u001b[0;34m=\u001b[0m \u001b[0mfn\u001b[0m\u001b[0;34m(\u001b[0m\u001b[0;34m*\u001b[0m\u001b[0margs\u001b[0m\u001b[0;34m,\u001b[0m \u001b[0;34m**\u001b[0m\u001b[0mkwargs\u001b[0m\u001b[0;34m)\u001b[0m\u001b[0;34m\u001b[0m\u001b[0;34m\u001b[0m\u001b[0m\n\u001b[0m\u001b[1;32m   2419\u001b[0m             \u001b[0;32mreturn\u001b[0m \u001b[0mresult\u001b[0m\u001b[0;34m\u001b[0m\u001b[0;34m\u001b[0m\u001b[0m\n\u001b[1;32m   2420\u001b[0m \u001b[0;34m\u001b[0m\u001b[0m\n",
            "\u001b[0;32m<decorator-gen-52>\u001b[0m in \u001b[0;36mrun\u001b[0;34m(self, parameter_s, runner, file_finder)\u001b[0m\n",
            "\u001b[0;32m/usr/local/lib/python3.10/dist-packages/IPython/core/magic.py\u001b[0m in \u001b[0;36m<lambda>\u001b[0;34m(f, *a, **k)\u001b[0m\n\u001b[1;32m    185\u001b[0m     \u001b[0;31m# but it's overkill for just that one bit of state.\u001b[0m\u001b[0;34m\u001b[0m\u001b[0;34m\u001b[0m\u001b[0m\n\u001b[1;32m    186\u001b[0m     \u001b[0;32mdef\u001b[0m \u001b[0mmagic_deco\u001b[0m\u001b[0;34m(\u001b[0m\u001b[0marg\u001b[0m\u001b[0;34m)\u001b[0m\u001b[0;34m:\u001b[0m\u001b[0;34m\u001b[0m\u001b[0;34m\u001b[0m\u001b[0m\n\u001b[0;32m--> 187\u001b[0;31m         \u001b[0mcall\u001b[0m \u001b[0;34m=\u001b[0m \u001b[0;32mlambda\u001b[0m \u001b[0mf\u001b[0m\u001b[0;34m,\u001b[0m \u001b[0;34m*\u001b[0m\u001b[0ma\u001b[0m\u001b[0;34m,\u001b[0m \u001b[0;34m**\u001b[0m\u001b[0mk\u001b[0m\u001b[0;34m:\u001b[0m \u001b[0mf\u001b[0m\u001b[0;34m(\u001b[0m\u001b[0;34m*\u001b[0m\u001b[0ma\u001b[0m\u001b[0;34m,\u001b[0m \u001b[0;34m**\u001b[0m\u001b[0mk\u001b[0m\u001b[0;34m)\u001b[0m\u001b[0;34m\u001b[0m\u001b[0;34m\u001b[0m\u001b[0m\n\u001b[0m\u001b[1;32m    188\u001b[0m \u001b[0;34m\u001b[0m\u001b[0m\n\u001b[1;32m    189\u001b[0m         \u001b[0;32mif\u001b[0m \u001b[0mcallable\u001b[0m\u001b[0;34m(\u001b[0m\u001b[0marg\u001b[0m\u001b[0;34m)\u001b[0m\u001b[0;34m:\u001b[0m\u001b[0;34m\u001b[0m\u001b[0;34m\u001b[0m\u001b[0m\n",
            "\u001b[0;32m/usr/local/lib/python3.10/dist-packages/IPython/core/magics/execution.py\u001b[0m in \u001b[0;36mrun\u001b[0;34m(self, parameter_s, runner, file_finder)\u001b[0m\n\u001b[1;32m    723\u001b[0m             \u001b[0;32mif\u001b[0m \u001b[0mos\u001b[0m\u001b[0;34m.\u001b[0m\u001b[0mname\u001b[0m \u001b[0;34m==\u001b[0m \u001b[0;34m'nt'\u001b[0m \u001b[0;32mand\u001b[0m \u001b[0mre\u001b[0m\u001b[0;34m.\u001b[0m\u001b[0mmatch\u001b[0m\u001b[0;34m(\u001b[0m\u001b[0;34mr\"^'.*'$\"\u001b[0m\u001b[0;34m,\u001b[0m\u001b[0mfpath\u001b[0m\u001b[0;34m)\u001b[0m\u001b[0;34m:\u001b[0m\u001b[0;34m\u001b[0m\u001b[0;34m\u001b[0m\u001b[0m\n\u001b[1;32m    724\u001b[0m                 \u001b[0mwarn\u001b[0m\u001b[0;34m(\u001b[0m\u001b[0;34m'For Windows, use double quotes to wrap a filename: %run \"mypath\\\\myfile.py\"'\u001b[0m\u001b[0;34m)\u001b[0m\u001b[0;34m\u001b[0m\u001b[0;34m\u001b[0m\u001b[0m\n\u001b[0;32m--> 725\u001b[0;31m             \u001b[0;32mraise\u001b[0m \u001b[0mException\u001b[0m\u001b[0;34m(\u001b[0m\u001b[0mmsg\u001b[0m\u001b[0;34m)\u001b[0m\u001b[0;34m\u001b[0m\u001b[0;34m\u001b[0m\u001b[0m\n\u001b[0m\u001b[1;32m    726\u001b[0m         \u001b[0;32mexcept\u001b[0m \u001b[0mTypeError\u001b[0m\u001b[0;34m:\u001b[0m\u001b[0;34m\u001b[0m\u001b[0;34m\u001b[0m\u001b[0m\n\u001b[1;32m    727\u001b[0m             \u001b[0;32mif\u001b[0m \u001b[0mfpath\u001b[0m \u001b[0;32min\u001b[0m \u001b[0msys\u001b[0m\u001b[0;34m.\u001b[0m\u001b[0mmeta_path\u001b[0m\u001b[0;34m:\u001b[0m\u001b[0;34m\u001b[0m\u001b[0;34m\u001b[0m\u001b[0m\n",
            "\u001b[0;31mException\u001b[0m: File `'pyfiles/bb84.py'` not found."
          ]
        }
      ],
      "source": [
        "%run pyfiles/bb84  #This runs the file that has the code\n",
        "createTable()"
      ]
    },
    {
      "cell_type": "markdown",
      "source": [
        "# BB84 Simulator\n",
        "The following cell provides widgets to set the values that control the main program.\n",
        "\n",
        "* The first widget sets how many qubits are to be transmitted.\n",
        "* The second widget controls whether Eve will be active or not.\n",
        "* The third, fourth and fifth widgets set the bias of ✚ to ✖ for Alice, Bob and Eve.\n",
        "\n",
        "These values are passed to the main program as parameters."
      ],
      "metadata": {
        "id": "-oa_DZV75-6i"
      }
    },
    {
      "cell_type": "code",
      "source": [
        "# Code to generate GUI for entering program parameters\n",
        "import ipywidgets as widgets\n",
        "from IPython.display import display\n",
        "\n",
        "# Configuration of the widget that controls the number of qubits\n",
        "number_of_qubits = widgets.IntText(\n",
        "                    value=100,\n",
        "                    disabled=False\n",
        "                    )\n",
        "qubit_control = widgets.VBox([widgets.Label(value=\"Enter number of initial qubits\"), number_of_qubits])\n",
        "\n",
        "# Configuration of the widget that controls whether Eve is active or not\n",
        "is_Eve_active =  widgets.ToggleButton(\n",
        "                    value=False,\n",
        "                    description='Click to activate',\n",
        "                    disabled=False,\n",
        "                    button_style='success', # 'success', 'info', 'warning', 'danger' or ''\n",
        "                    tooltip='Will Eve intercept the transmission',\n",
        "                    icon=''\n",
        "                    )\n",
        "eve_message = widgets.Label(value=\"Eve is not active\")\n",
        "eve_control = widgets.VBox([eve_message, is_Eve_active])\n",
        "\n",
        "# Configuration of an event handler for the eve control widget\n",
        "def on_value_change(change):\n",
        "    is_Eve_active.description = 'Click to deactivate' if change['new'] else 'Click to activate'\n",
        "    eve_message.value = 'Eve is active' if change['new'] else 'Eve is not active'\n",
        "is_Eve_active.observe(on_value_change, names='value')\n",
        "\n",
        "# Configuration of the widget that controls Alice's bias towards the diagonal bases\n",
        "abias = widgets.BoundedIntText(\n",
        "                    value=50,\n",
        "                    min=0,\n",
        "                    max=100,\n",
        "                    step=1,\n",
        "                    disabled=False\n",
        "                    )\n",
        "abias_control = widgets.VBox([widgets.Label(value=\"Enter Alice's bias for diagnal basis over standard basis (0-100)\"), abias])\n",
        "\n",
        "# Configuration of the widget that controls Bob's bias towards the diagonal bases\n",
        "bbias = widgets.BoundedIntText(\n",
        "                    value=50,\n",
        "                    min=0,\n",
        "                    max=100,\n",
        "                    step=1,\n",
        "                    disabled=False\n",
        "                    )\n",
        "bbias_control = widgets.VBox([widgets.Label(value=\"Enter Bob's bias for diagnal basis over standard basis (0-100)\"), bbias])\n",
        "\n",
        "# Configuration of the widget that controls Eve's bias towards the diagonal bases\n",
        "ebias = widgets.BoundedIntText(\n",
        "                    value=50,\n",
        "                    min=0,\n",
        "                    max=100,\n",
        "                    step=1,\n",
        "                    disabled=False\n",
        "                    )\n",
        "ebias_control = widgets.VBox([widgets.Label(value=\"Enter Eve's bias for diagnal basis over standard basis (0-100)\"), ebias])\n",
        "\n",
        "# display the control widgets\n",
        "display(qubit_control, eve_control, abias_control, bbias_control, ebias_control)"
      ],
      "metadata": {
        "id": "fPhhn2uC6S8E"
      },
      "execution_count": null,
      "outputs": []
    },
    {
      "cell_type": "markdown",
      "source": [
        "After setting the parameters you may either:\n",
        "\n",
        "* Run each of the following cells one at a time in order or\n",
        "* Select \"Run All Below\" in the \"Cell\" sub-menu from here\n",
        "\n",
        "The following cells define the classes, function and main program. Output is provided after each cell."
      ],
      "metadata": {
        "id": "6ivfuQ9E7niJ"
      }
    },
    {
      "cell_type": "code",
      "source": [
        "class Messenger:\n",
        "    \"\"\"Inherited class with methods common to both BB84 and B92 protocols\"\"\"\n",
        "    from random import choice\n",
        "    from random import choices\n",
        "\n",
        "    # There are no class variables defined, only instance variables.\n",
        "    # Therefore no data is shared between instances without going through the main program\n",
        "    def __init__(self, number_of_qubits):\n",
        "        \"\"\"Initialize a new instance\"\"\"\n",
        "        self.key = []\n",
        "        self.bases = []\n",
        "        self.valid_bit = []\n",
        "        self.secret_bit = []\n",
        "        for i in range(number_of_qubits):\n",
        "            self.valid_bit.append(1)\n",
        "            self.secret_bit.append(1)\n",
        "\n",
        "    def generate_bits(self, number_of_bits):\n",
        "        \"\"\"Populate the key instance variable with a given number of random bits and return what was populated\"\"\"\n",
        "        self.key = self.choices([0,1], k=number_of_bits)\n",
        "        return self.key\n",
        "\n",
        "    def generate_bases(self, number_of_qubits, biasToX):\n",
        "        \"\"\"Populate the bases instance variable with a given number of random bits and return what was populated\"\"\"\n",
        "        self.bases = self.choices(['×','+'], cum_weights=[biasToX,100], k=number_of_qubits)\n",
        "        return self.bases\n",
        "\n",
        "    def scratch_bits(self, input):\n",
        "        \"\"\"Based on the markers given in the input parameter, clear the bits considered to be valid and secret\"\"\"\n",
        "        markers = ['W', '?', '✓']\n",
        "        for i, delete_indicator in enumerate(input):\n",
        "            if delete_indicator in markers:\n",
        "                self.valid_bit[i] = 0\n",
        "                self.secret_bit[i] = 0\n",
        "        return\n",
        "\n",
        "    def choose_half(self, input):\n",
        "        \"\"\"Given which are valid choices in the input parameter, make a 50/50 choice which to mark from the valid choices\"\"\"\n",
        "        output = []\n",
        "        for i, bit in enumerate(input):\n",
        "            if bit == 'W' or bit == '?':\n",
        "                output.append('')\n",
        "            else:\n",
        "                if self.choice([0, 1]):\n",
        "                    output.append('')\n",
        "                else:\n",
        "                    output.append('✓')\n",
        "        return output\n",
        "\n",
        "    def check_bits(self, input_key, bits_to_check, valid_bit):\n",
        "        \"\"\"From a given list of bits to check, see if the inputted bit equals the corresponding instance key bit\"\"\"\n",
        "        output = []\n",
        "        for i, bit in enumerate(bits_to_check):\n",
        "            if bit == '✓':\n",
        "                self.secret_bit[i] = 0\n",
        "                if input_key[i] == self.key[i]:\n",
        "                    output.append('✓')\n",
        "                else:\n",
        "                    output.append('')\n",
        "            else:\n",
        "                # If a bit is a valid bit but just not on the chosen list, reset it so it can be reused for multiple runs\n",
        "                if valid_bit[i] != 'W' and valid_bit[i] != '?':\n",
        "                    self.secret_bit[i] = 1\n",
        "                output.append('')\n",
        "        return output\n",
        "\n",
        "    def show_valid_key(self):\n",
        "        \"\"\"Return the key for this instance based on the bits marked as valid\"\"\"\n",
        "        output = []\n",
        "        for key_bit, check_bit in zip(self.key, self.valid_bit):\n",
        "            output.append(key_bit) if check_bit == 1 else output.append('')\n",
        "        return output\n",
        "\n",
        "    def show_secret_key(self):\n",
        "        \"\"\"Return the key for this instance based on the bits marked as secret\"\"\"\n",
        "        output = []\n",
        "        for key_bit, check_bit in zip(self.key, self.secret_bit):\n",
        "            output.append(key_bit) if check_bit == 1 else output.append('')\n",
        "        return output\n",
        "\n",
        "class BB84Messenger(Messenger):\n",
        "    \"\"\"methods for BB84 messaging\"\"\"\n",
        "\n",
        "    def encode_qubit(self, state, basis):\n",
        "        \"\"\"Return the qubit encoding based on the BB84 protocol\"\"\"\n",
        "        vocabulary = [{'+':'→', '×':'↗'}, {'+':'↑', '×':'↖'}]\n",
        "        return vocabulary[state][basis]\n",
        "\n",
        "    def transmit_key(self):\n",
        "        \"\"\"Loop through all bits, returning the encoded BB84 qubits\"\"\"\n",
        "        return ''.join([self.encode_qubit(key, basis) for key, basis in zip(self.key, self.bases)])\n",
        "\n",
        "    def compare_bases(self, input):\n",
        "        \"\"\"Compare the inputted bases with the instance bases and return a 'C' if they match or 'W' if they do not\"\"\"\n",
        "        output = []\n",
        "        for my_basis, other_basis in zip(self.bases, input):\n",
        "            output.append('C') if my_basis == other_basis else output.append('W')\n",
        "        return output\n",
        "\n",
        "    def receive_key(self, input):\n",
        "        \"\"\"Process an inputted string to extract the key bits and return what qubits were observed\"\"\"\n",
        "        qubits = list(input)\n",
        "        del self.key[:]\n",
        "        observed = []\n",
        "        for qubit, basis in zip(qubits, self.bases):\n",
        "            if basis == '+' and qubit == '→':\n",
        "                self.key.append(0)\n",
        "                observed.append('→')\n",
        "            elif basis == '×' and qubit == '↗':\n",
        "                self.key.append(0)\n",
        "                observed.append('↗')\n",
        "            elif basis == '+' and qubit == '↑':\n",
        "                self.key.append(1)\n",
        "                observed.append('↑')\n",
        "            elif basis == '×' and qubit == '↖':\n",
        "                self.key.append(1)\n",
        "                observed.append('↖')\n",
        "            else:\n",
        "                self.key.append(self.choice([0, 1]))\n",
        "                observed.append(self.encode_qubit(self.key[len(self.key)-1], basis))\n",
        "        return observed\n",
        "\n",
        "\n",
        "def printTable(caption, rows):\n",
        "    \"\"\"Make a nice looking table like in the book\"\"\"\n",
        "    from IPython.display import HTML, display\n",
        "    display(HTML(\n",
        "    '<table style=\"border-bottom: 4px double #333;border-top: 4px double #333;padding: 10px 0;\">' +\n",
        "    '<caption style=\"font-weight:900; color:black; border-top: 4px double #333;\">' + caption + '</caption>' +\n",
        "    '<tr>{}</tr></table>'.format('</tr><tr>'.join(\n",
        "        '<td>' + row[0] + '</td><td>{}</td>'.format('</td><td>'.join(row[1])) for row in rows))))"
      ],
      "metadata": {
        "id": "gkjdk0667tWn"
      },
      "execution_count": null,
      "outputs": []
    },
    {
      "cell_type": "markdown",
      "source": [
        "# Main program"
      ],
      "metadata": {
        "id": "j66KXnDQ7x3W"
      }
    },
    {
      "cell_type": "code",
      "source": [
        "# parameters passed into main program from GUI\n",
        "n = number_of_qubits.value\n",
        "eve_present = is_Eve_active.value\n",
        "aliceXbias = abias.value\n",
        "bobXbias = bbias.value\n",
        "eveXbias = ebias.value\n",
        "\n",
        "# instantiate a messenger class for each persona\n",
        "alice84 = BB84Messenger(n)\n",
        "bob84 = BB84Messenger(n)\n",
        "eve84 = BB84Messenger(n)\n",
        "\n",
        "# Let's see what we are working with\n",
        "print(\"Program parameters have been entered into the program as follows:\")\n",
        "print(\"  * Alice will start with {} qubits to generate a key to send to Bob.\".format(n))\n",
        "print(\"  * Eve will {}intercept the transmission.\".format('' if eve_present else 'not '))\n",
        "print(\"  * Alice has a {}/{} chance of choosing diagonal basis over standard basis\".format(aliceXbias, 100 - aliceXbias))\n",
        "print(\"  * Bob has a {}/{} chance of choosing diagonal basis over standard basis\".format(bobXbias, 100 - bobXbias))\n",
        "print(\"  * Eve has a {}/{} chance of choosing diagonal basis over standard basis\".format(eveXbias, 100 - eveXbias))"
      ],
      "metadata": {
        "id": "kDYay23k7zNA"
      },
      "execution_count": null,
      "outputs": []
    },
    {
      "cell_type": "markdown",
      "source": [
        "# Step 1 of the BB84 protocol - Alice sends a candidate key\n",
        "* Alice flips a coin n times to determine which classical bits to send.\n",
        "* She then flips the coin another n times to determine in which of the two bases to send those bits.\n",
        "* She then sends the bits in their appropriate basis."
      ],
      "metadata": {
        "id": "RsFttnJR720g"
      }
    },
    {
      "cell_type": "code",
      "source": [
        "# Alice randomly generates n bits.  These are private to Alice but pulled out here so they can be printed to show what was done\n",
        "alice84bits = alice84.generate_bits(n)\n",
        "\n",
        "# Alice randomly generates n bases biased towards X as defined by aliceXvalue choices out of 100\n",
        "alice84bases = alice84.generate_bases(n, aliceXbias)\n",
        "\n",
        "# Alice takes the bits she generated, encodes them into qubits using her generated bases, and puts them on the transmission line\n",
        "transmission = alice84.transmit_key()\n",
        "\n",
        "# Show all the work done by Alice in a nice convienient table\n",
        "printTable(caption=\"Step 1: Alice sends \" + str(n) + \" random bits in random bases\",\n",
        "           rows = [[\"Bit&nbsp;number\", map(str, range(1, n+1))],\n",
        "                   [\"Alice's&nbsp;random&nbsp;bits\", map(str, alice84bits)],\n",
        "                   [\"Alice's&nbsp;random&nbsp;bases\", alice84bases],\n",
        "                   [\"Alice&nbsp;sends\", transmission]]\n",
        "          )"
      ],
      "metadata": {
        "id": "ICnpyhS579px"
      },
      "execution_count": null,
      "outputs": []
    },
    {
      "cell_type": "markdown",
      "source": [
        "# Step 2 of the BB84 protocol - Bob receives a candidate key\n",
        "* Since Bob doesn't know the bases used by Alice, he flips a coin n times to determine the basis by which to measure.\n",
        "* If Eve is present, then the transmission from Alice is intercepted then retransmitted to Bob\n",
        "* Bob uses these random bases to measure the qubits sent from Alice"
      ],
      "metadata": {
        "id": "2rwSKE6o8N06"
      }
    },
    {
      "cell_type": "code",
      "source": [
        "# Bob randomly generates his n bases with a bias towards X defined by bobXbias\n",
        "bob84bases = bob84.generate_bases(n, bobXbias)\n",
        "\n",
        "# If eve is present, then the interception occurs\n",
        "if eve_present:\n",
        "\n",
        "    # Eve generates her bases with her given bias.\n",
        "    eve84bases = eve84.generate_bases(n, eveXbias)\n",
        "\n",
        "    # Eve intercepts the tranmission and reads it\n",
        "    eve84received = eve84.receive_key(transmission)\n",
        "\n",
        "    # She then replaces it with her own encoding from her set of randomly chosen bases\n",
        "    transmission = eve84.transmit_key()\n",
        "\n",
        "# Bob receives the transmission but it could have come from Alice or Eve\n",
        "bob84received = bob84.receive_key(transmission)\n",
        "if eve_present:\n",
        "    # Show everything from Bob's point of view\n",
        "    printTable(caption=\"Step 2: Bob receives \" + str(n) + \" random bits in random measurements\",\n",
        "               rows = [[\"Bit&nbsp;number\", map(str, range(1, n+1))],\n",
        "                       [\"Eve's&nbsp;random&nbsp;bases\", eve84bases],\n",
        "                       [\"Eve&nbsp;observes\", eve84received],\n",
        "                       [\"Eve's&nbsp;bits\", map(str, eve84.key)],\n",
        "                       [\"Bob's&nbsp;random&nbsp;bases\", bob84bases],\n",
        "                       [\"Bob&nbsp;observes\", bob84received],\n",
        "                       [\"Bob's&nbsp;bits\", map(str, bob84.key)]])\n",
        "else:\n",
        "    # Show everything from Bob's point of view\n",
        "    printTable(caption=\"Step 2: Bob receives \" + str(n) + \" random bits in random measurements\",\n",
        "               rows = [[\"Bit&nbsp;number\", map(str, range(1, n+1))],\n",
        "                       [\"Bob's&nbsp;random&nbsp;bases\", bob84bases],\n",
        "                       [\"Bob&nbsp;observes\", bob84received],\n",
        "                       [\"Bob's&nbsp;bits\", map(str, bob84.key)]])"
      ],
      "metadata": {
        "id": "I-oGhAEV8UcY"
      },
      "execution_count": null,
      "outputs": []
    },
    {
      "cell_type": "markdown",
      "source": [
        "## Step 3 of BB84 protocol - Alice and Bob evaluate the candidate key\n",
        "* Bob tells Alice the bases that he chose\n",
        "* Alice replies by telling Bob which basis is correct and which ones are wrong\n",
        "* Alice and Bob scratch out the bits that had the wrong basis\n",
        "* On average the length of the remaining subsequence should be about n/2 bits."
      ],
      "metadata": {
        "id": "xj2ILAuw8WwA"
      }
    },
    {
      "cell_type": "code",
      "source": [
        "# Bob sends his bases to Alice who does a comparison and returns which ones match correctly and which are wrong\n",
        "bases_comparison = alice84.compare_bases(bob84bases)\n",
        "\n",
        "# Alice drops the bits that do not match\n",
        "alice84.scratch_bits(bases_comparison)\n",
        "\n",
        "# So does Bob\n",
        "bob84.scratch_bits(bases_comparison)\n",
        "\n",
        "# Let's see how things are progressing\n",
        "secret_key = bob84.show_valid_key()\n",
        "if eve_present:\n",
        "    printTable(caption=\"Step 3: Alice and Bob publicly compare bases used\",\n",
        "               rows = [[\"Bit&nbsp;number\", map(str, range(1, n+1))],\n",
        "                       [\"Alice's&nbsp;random&nbsp;bases\", alice84bases],\n",
        "                       [\"Eve's&nbsp;random&nbsp;bases\", eve84bases],\n",
        "                       [\"Bob's&nbsp;random&nbsp;bases\", bob84bases],\n",
        "                       [\"Which&nbsp;agree?\", bases_comparison],\n",
        "                       [\"Shared&nbsp;secret&nbsp;bits\", map(str, secret_key)]])\n",
        "else:\n",
        "    printTable(caption=\"Step 3: Alice and Bob publicly compare bases used\",\n",
        "               rows = [[\"Bit&nbsp;number\", map(str, range(1, n+1))],\n",
        "                       [\"Alice's&nbsp;random&nbsp;bases\", alice84bases],\n",
        "                       [\"Bob's&nbsp;random&nbsp;bases\", bob84bases],\n",
        "                       [\"Which&nbsp;agree?\", bases_comparison],\n",
        "                       [\"Shared&nbsp;secret&nbsp;bits\", map(str, secret_key)]])\n",
        "\n",
        "# and evaluate how we are doing so far\n",
        "print('The expected number of matching bases is {} and the actual number is {}.'.format(int(n/2), bases_comparison.count('C')))"
      ],
      "metadata": {
        "id": "i45tBKa38e2h"
      },
      "execution_count": null,
      "outputs": []
    },
    {
      "cell_type": "markdown",
      "source": [
        "## Step 4 of the BB84 protocol - Alice and Bob check if there was an eavesdropper\n",
        "* Bob randomly chooses half of the remaining n/2 bits and compares them with Alice.\n",
        "* Assuming no channel errors, Alice's and Bob's comparison should match.\n",
        "* If they do not match, then there was an eavesdropper and the whole set is discarded."
      ],
      "metadata": {
        "id": "CcvHig1O8igo"
      }
    },
    {
      "cell_type": "code",
      "source": [
        "alice_valid_key = alice84.show_valid_key()\n",
        "bob_valid_key = bob84.show_valid_key()\n",
        "\n",
        "# Bob chooses half of the bits from the correctly matched bases\n",
        "bits_to_compare = bob84.choose_half(bases_comparison)\n",
        "\n",
        "# Alice can check the chosen bits from her key against Bob's key\n",
        "alice84.check_bits(bob_valid_key, bits_to_compare, bases_comparison)\n",
        "\n",
        "# Bob can do the same against Alice's key and mark the bits that match\n",
        "matched = bob84.check_bits(alice_valid_key, bits_to_compare, bases_comparison)\n",
        "\n",
        "# Let's see how things turned out\n",
        "shared_secret_key = bob84.show_secret_key()\n",
        "printTable(caption=\"Step 4: Alice and Bob publicly compare half of the remaining bits\",\n",
        "           rows = [[\"Bit&nbsp;number\", map(str, range(1, n+1))],\n",
        "                   [\"Bob's&nbsp;secret&nbsp;keys\", map(str, bob_valid_key)],\n",
        "                   [\"Randomly&nbsp;chosen&nbsp;to&nbsp;compare\", bits_to_compare],\n",
        "                   [\"Alice's&nbsp;secret&nbsp;keys\", map(str, alice_valid_key)],\n",
        "                   [\"Which&nbsp;agree?\", matched],\n",
        "                   [\"Unrevealed&nbsp;secret&nbsp;keys\", map(str, shared_secret_key)]]\n",
        "          )\n",
        "\n",
        "# and evaluate our results\n",
        "print('Alice and Bob matched {} out of {} bits.'.format(matched.count('✓'), bits_to_compare.count('✓')))\n",
        "\n",
        "if matched.count('✓') == 0:\n",
        "    print('There are no usable bits. You should choose different biases for your bases')\n",
        "else:\n",
        "    if matched.count('✓') == bits_to_compare.count('✓'):\n",
        "        print('Everything seems OK, no eavesdropping detected')\n",
        "        print('There are {} usable bits in the final key from {} shared bits and {} qubits initially transmitted'\n",
        "              .format(len(list(filter(lambda x:x in {0,1}, shared_secret_key))), bases_comparison.count('C'), n))\n",
        "        print('The key generation rate is {:.4f}'.format(len(list(filter(lambda x:x in {0,1}, shared_secret_key)))/n))\n",
        "    else:\n",
        "        print('Oh oh, there seems to be an eavesdropper')\n",
        "        print('All bits must be discarded.  The key generation rate is 0.0000')"
      ],
      "metadata": {
        "id": "FON7Dw2W8pz2"
      },
      "execution_count": null,
      "outputs": []
    }
  ]
}